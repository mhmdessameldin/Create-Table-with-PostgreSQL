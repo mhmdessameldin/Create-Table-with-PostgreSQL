{
 "cells": [
  {
   "cell_type": "markdown",
   "id": "1b205062",
   "metadata": {},
   "source": [
    "### Instal Library"
   ]
  },
  {
   "cell_type": "code",
   "execution_count": 15,
   "id": "b7ceeb3a",
   "metadata": {},
   "outputs": [
    {
     "name": "stdout",
     "output_type": "stream",
     "text": [
      "Requirement already satisfied: psycopg2 in c:\\users\\kimo store\\anaconda3\\lib\\site-packages (2.9.5)\n"
     ]
    }
   ],
   "source": [
    "!pip install psycopg2"
   ]
  },
  {
   "cell_type": "markdown",
   "id": "3dcc8493",
   "metadata": {},
   "source": [
    "### Import the Library"
   ]
  },
  {
   "cell_type": "code",
   "execution_count": 16,
   "id": "1dc35a14",
   "metadata": {},
   "outputs": [],
   "source": [
    "import psycopg2"
   ]
  },
  {
   "cell_type": "markdown",
   "id": "08b4ffef",
   "metadata": {},
   "source": [
    "### Create a connection to the database"
   ]
  },
  {
   "cell_type": "code",
   "execution_count": 17,
   "id": "0dd6238e",
   "metadata": {},
   "outputs": [],
   "source": [
    "try:\n",
    "    con = psycopg2.connect(\"host=localhost dbname=postgres user=postgres password=me821989ME@\")\n",
    "except psycopg2.Error as e:\n",
    "    print(\"Error: Could not make connection to the postgres database\")\n",
    "    print(e)"
   ]
  },
  {
   "cell_type": "markdown",
   "id": "4ffb758a",
   "metadata": {},
   "source": [
    "### Use the connection to get a cursor"
   ]
  },
  {
   "cell_type": "code",
   "execution_count": 18,
   "id": "37cf4355",
   "metadata": {},
   "outputs": [],
   "source": [
    "try:\n",
    "    cur = con.cursor()\n",
    "except psycopg2.Error as e:\n",
    "    print(\"Error: Could not get cursor\")\n",
    "    print(e)"
   ]
  },
  {
   "cell_type": "markdown",
   "id": "a5cae9d3",
   "metadata": {},
   "source": [
    "### Set automatic commit"
   ]
  },
  {
   "cell_type": "code",
   "execution_count": 19,
   "id": "90743a99",
   "metadata": {},
   "outputs": [],
   "source": [
    "con.set_session(autocommit=True)"
   ]
  },
  {
   "cell_type": "markdown",
   "id": "5e73e7aa",
   "metadata": {},
   "source": [
    "### Create a database"
   ]
  },
  {
   "cell_type": "code",
   "execution_count": 20,
   "id": "80d9a729",
   "metadata": {},
   "outputs": [
    {
     "name": "stdout",
     "output_type": "stream",
     "text": [
      "Error: Could not create database\n",
      "database \"mhmdessamdb\" already exists\n",
      "\n"
     ]
    }
   ],
   "source": [
    "try:\n",
    "    cur.execute(\"CREATE DATABASE mhmdessamdb\")\n",
    "except psycopg2.Error as e:\n",
    "    print(\"Error: Could not create database\")\n",
    "    print(e)"
   ]
  },
  {
   "cell_type": "markdown",
   "id": "50cfb5fb",
   "metadata": {},
   "source": [
    "### Close the default database, add new database name in the connection, and get a new cursor."
   ]
  },
  {
   "cell_type": "code",
   "execution_count": 21,
   "id": "1d7db7ad",
   "metadata": {},
   "outputs": [],
   "source": [
    "try:\n",
    "    con.close()\n",
    "except psycopg2.Error as a:\n",
    "    print(\"Error: Could not close database\")\n",
    "    print(e)\n",
    "    \n",
    "try:\n",
    "    con = psycopg2.connect(\"host=localhost dbname=mhmdessamdb user=postgres password=me821989ME@\")\n",
    "except psycopg2.Error as e:\n",
    "    print(\"Error: Could not make connection to database\")\n",
    "    print(e)\n",
    "\n",
    "try:\n",
    "    cur = con.cursor()\n",
    "except psycopg2.Error as e:\n",
    "    print(\"Error: Could not get Cursor\")\n",
    "    print(e)\n",
    "\n",
    "con.set_session(autocommit=True)"
   ]
  },
  {
   "cell_type": "markdown",
   "id": "7dfefbc0",
   "metadata": {},
   "source": [
    "## Create a table for employees that includes the below columns\n",
    "#### employee_id\n",
    "#### name\n",
    "#### date_of_birth\n",
    "#### gender\n",
    "#### department\n",
    "#### states\n",
    "#### still_employee"
   ]
  },
  {
   "cell_type": "code",
   "execution_count": 22,
   "id": "81b7ec48",
   "metadata": {},
   "outputs": [],
   "source": [
    "try:\n",
    "    cur.execute(\"CREATE TABLE IF NOT EXISTS employees(employee_id int, name varchar, date_of_birth date, gender varchar, department varchar, states varchar, still_employee boolean);\")\n",
    "except psycopg2.error as e:\n",
    "    print(\"Error: Could not create table\")\n",
    "    print(e)"
   ]
  },
  {
   "cell_type": "markdown",
   "id": "bdf20f01",
   "metadata": {},
   "source": [
    "## Insert data in the table \"employees\"\n",
    "#### 1_row : 00001, mohamed essam, 1987-12-01, male, programing, alexandria, True\n",
    "#### 1_row : 00002, shaimaa salamaa, 1989-02-08, female, financial, alexandria, True"
   ]
  },
  {
   "cell_type": "code",
   "execution_count": 23,
   "id": "46c47136",
   "metadata": {},
   "outputs": [],
   "source": [
    "try:\n",
    "    cur.execute(\"INSERT INTO employees(employee_id, name, date_of_birth, gender, department, states, still_employee) VALUES(%s, %s, %s, %s, %s, %s, %s)\", (0o0001, \"mohamed essam\", \"1987-12-01\", \"male\", \"programing\", \"alexandria\", True))\n",
    "except psycopg2.Error as e:\n",
    "    print(\"Error: Insert rows\")\n",
    "    print(e)\n",
    "    \n",
    "try:\n",
    "    cur.execute(\"INSERT INTO employees(employee_id, name, date_of_birth, gender, department, states, still_employee) VALUES(%s, %s, %s, %s, %s, %s, %s)\", (0o0002, \"shaimaa salamaa\", \"1989-02-08\", \"female\", \"financial\", \"alexandria\", True))\n",
    "except psycopg2.Error as e:\n",
    "    print(\"Error: Insert rows\")\n",
    "    print(e)"
   ]
  },
  {
   "cell_type": "markdown",
   "id": "6d0414f9",
   "metadata": {},
   "source": [
    "### Validate data"
   ]
  },
  {
   "cell_type": "code",
   "execution_count": 29,
   "id": "208aeb1d",
   "metadata": {},
   "outputs": [
    {
     "name": "stdout",
     "output_type": "stream",
     "text": [
      "(2, 'shaimaa salamaa', datetime.date(1989, 2, 8), 'female', 'financial', 'alexandria', True)\n",
      "(1, 'mohamed essam', datetime.date(1987, 12, 1), 'male', 'programing', 'alexandria', True)\n"
     ]
    }
   ],
   "source": [
    "try:\n",
    "    cur.execute(\"SELECT * FROM employees;\")\n",
    "except psycopg2.Error as e:\n",
    "    print(\"Could not select\")\n",
    "    print(e)\n",
    "    \n",
    "row = cur.fetchone()\n",
    "while row:\n",
    "    print(row)\n",
    "    row = cur.fetchone()"
   ]
  },
  {
   "cell_type": "markdown",
   "id": "61201046",
   "metadata": {},
   "source": [
    "### Close cursor and connection"
   ]
  },
  {
   "cell_type": "code",
   "execution_count": 12,
   "id": "869b5170",
   "metadata": {},
   "outputs": [],
   "source": [
    "cur.close()\n",
    "con.close()"
   ]
  }
 ],
 "metadata": {
  "kernelspec": {
   "display_name": "Python 3 (ipykernel)",
   "language": "python",
   "name": "python3"
  },
  "language_info": {
   "codemirror_mode": {
    "name": "ipython",
    "version": 3
   },
   "file_extension": ".py",
   "mimetype": "text/x-python",
   "name": "python",
   "nbconvert_exporter": "python",
   "pygments_lexer": "ipython3",
   "version": "3.9.12"
  }
 },
 "nbformat": 4,
 "nbformat_minor": 5
}
